{
 "cells": [
  {
   "cell_type": "code",
   "execution_count": 1,
   "metadata": {},
   "outputs": [],
   "source": [
    "import numpy as np"
   ]
  },
  {
   "cell_type": "code",
   "execution_count": 2,
   "metadata": {},
   "outputs": [],
   "source": [
    "def initialise(N):\n",
    "    return np.zeros(N)\n",
    "\n",
    "def check_validity(positions):\n",
    "    valid_indexes = np.array([])\n",
    "    occupied_positions = np.unique(positions)\n",
    "    for i in range(0, positions.size):\n",
    "        validity = True\n",
    "        for j in range(0, occupied_positions.size):\n",
    "            if positions[i] == (occupied_positions[j] - 1):\n",
    "                validity = False\n",
    "        if validity == True:\n",
    "            valid_indexes = np.append(valid_indexes, i)\n",
    "    return valid_indexes\n",
    "\n",
    "def select_car(valid_positions):\n",
    "    x = np.random.choice(valid_positions, 1)\n",
    "    return int(x) \n",
    "\n",
    "def update_positions(positions, moving_car, size):\n",
    "    \n",
    "    positions[moving_car] =  positions[moving_car] + 1\n",
    "    if positions[moving_car] > size:\n",
    "        positions[moving_car] = 0\n",
    "        \n",
    "    return positions\n"
   ]
  },
  {
   "cell_type": "code",
   "execution_count": 3,
   "metadata": {},
   "outputs": [
    {
     "name": "stdout",
     "output_type": "stream",
     "text": [
      "[ 2.  0.  0.  5. 10.  7.  8.  0.  3. 15.]\n",
      "5.0\n",
      "4.753945729601885\n",
      "22.6\n"
     ]
    }
   ],
   "source": [
    "N = 25\n",
    "M = 10\n",
    "T = 50\n",
    "positions = initialise(M)\n",
    "\n",
    "for i in range(0, T):\n",
    "\n",
    "#    print(\"Position at start of iteration\", positions)\n",
    "\n",
    "    valid_positions = check_validity(positions)\n",
    "\n",
    "#    print(\"Valid Positions\", valid_positions)\n",
    "\n",
    "    moving_car = select_car(valid_positions)\n",
    "\n",
    "#    print(\"Car to move\", moving_car)\n",
    "\n",
    "    positions = update_positions(positions, moving_car, N)\n",
    "    \n",
    "#    print(\"New positions\", positions)\n",
    "\n",
    "print(positions)\n",
    "print(np.mean(positions))\n",
    "print(np.std(positions))\n",
    "print(np.var(positions))"
   ]
  },
  {
   "cell_type": "code",
   "execution_count": null,
   "metadata": {},
   "outputs": [],
   "source": []
  },
  {
   "cell_type": "code",
   "execution_count": null,
   "metadata": {},
   "outputs": [],
   "source": []
  },
  {
   "cell_type": "code",
   "execution_count": null,
   "metadata": {},
   "outputs": [],
   "source": []
  },
  {
   "cell_type": "code",
   "execution_count": null,
   "metadata": {},
   "outputs": [],
   "source": []
  }
 ],
 "metadata": {
  "kernelspec": {
   "display_name": "Python 3",
   "language": "python",
   "name": "python3"
  },
  "language_info": {
   "codemirror_mode": {
    "name": "ipython",
    "version": 3
   },
   "file_extension": ".py",
   "mimetype": "text/x-python",
   "name": "python",
   "nbconvert_exporter": "python",
   "pygments_lexer": "ipython3",
   "version": "3.6.7"
  }
 },
 "nbformat": 4,
 "nbformat_minor": 2
}
