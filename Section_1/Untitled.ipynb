{
 "cells": [
  {
   "cell_type": "code",
   "execution_count": 1,
   "metadata": {},
   "outputs": [],
   "source": [
    "import numpy as np\n",
    "import pandas as pd\n",
    "import matplotlib.pyplot as plt\n",
    "from scipy import stats\n",
    "from scipy.stats import chisquare"
   ]
  },
  {
   "cell_type": "code",
   "execution_count": 2,
   "metadata": {},
   "outputs": [
    {
     "name": "stderr",
     "output_type": "stream",
     "text": [
      "/home/adam/anaconda3/lib/python3.7/site-packages/IPython/core/interactiveshell.py:2785: DtypeWarning: Columns (1,14) have mixed types. Specify dtype option on import or set low_memory=False.\n",
      "  interactivity=interactivity, compiler=compiler, result=result)\n"
     ]
    }
   ],
   "source": [
    "my_cols = [\"IM_INCIDENT_KEY\tFIRE_BOX\", \"INCIDENT_TYPE_DESC\", \"INCIDENT_DATE_TIME\", \"ARRIVAL_DATE_TIME\",\t\"UNITS_ONSCENE\", \"LAST_UNIT_CLEARED_DATE_TIME\",\t\"HIGHEST_LEVEL_DESC\",\t\n",
    "           \"TOTAL_INCIDENT_DURATION\tACTION_TAKEN1_DESC\", \"ACTION_TAKEN2_DESC\",\t\"ACTION_TAKEN3_DESC\", \"PROPERTY_USE_DESC\", \"STREET_HIGHWAY\", \"ZIP_CODE\", \"BOROUGH_DESC\",\t\n",
    "           \"FLOOR\", \"CO_DETECTOR_PRESENT_DESC\",\t\"FIRE_ORIGIN_BELOW_GRADE_FLAG\",\t\"STORY_FIRE_ORIGIN_COUNT\",\t\"FIRE_SPREAD_DESC\",\t\"DETECTOR_PRESENCE_DESC\tAES_PRESENCE_DESC\",\t\n",
    "           \"STANDPIPE_SYS_PRESENT_FLAG\"\n",
    "]\n",
    "dataset = pd.read_csv(\"Incidents_Responded_to_by_Fire_Companies.csv\", na_values=\" NaN\")"
   ]
  },
  {
   "cell_type": "markdown",
   "metadata": {},
   "source": [
    "Question 1"
   ]
  },
  {
   "cell_type": "code",
   "execution_count": 3,
   "metadata": {},
   "outputs": [
    {
     "name": "stdout",
     "output_type": "stream",
     "text": [
      "['300 - Rescue, EMS incident, other'\n",
      " '735A - Unwarranted alarm/defective condition of alarm system'\n",
      " '412 - Gas leak (natural gas or LPG)'\n",
      " '353 - Removal of victim(s) from stalled elevator'\n",
      " '651 - Smoke scare, odor of smoke'\n",
      " '331 - Lock-in (if lock out , use 511 )'\n",
      " '710 - Malicious, mischievous false call, other'\n",
      " '555 - Defective elevator, no occupants' '522 - Water or steam leak'\n",
      " '150 - Outside rubbish fire, other'\n",
      " '151 - Outside rubbish, trash or waste fire'\n",
      " '118 - Trash or rubbish fire, contained'\n",
      " '322 - Motor vehicle accident with injuries'\n",
      " '746 - Carbon monoxide detector activation, no CO'\n",
      " '142 - Brush or brush-and-grass mixture fire'\n",
      " '321 - EMS call, excluding vehicle accident with injury'\n",
      " '311 - Medical assist, assist EMS crew'\n",
      " '113 - Cooking fire, confined to container'\n",
      " '323 - Motor vehicle/pedestrian accident (MV Ped)' '111 - Building fire'\n",
      " '116 - Fuel burner/boiler malfunction, fire confined'\n",
      " '552 - Police matter' '500 - Service Call, other'\n",
      " '611 - Dispatched & canceled en route'\n",
      " '736 - CO detector activation due to malfunction'\n",
      " '735B - Unnecessary alarm/alarm system testing or servicing'\n",
      " '400 - Hazardous condition, other'\n",
      " '700 - False alarm or false call, other' '511 - Lock-out'\n",
      " '600 - Good intent call, other'\n",
      " '740B - Unnecessary alarm/other known cause'\n",
      " '551 - Assist police or other governmental agency' '100 - Fire, other'\n",
      " '553 - Public service' '424 - Carbon monoxide incident'\n",
      " '200 - Overpressure rupture, explosion, overheat other'\n",
      " '444 - Power line down' '131 - Passenger vehicle fire'\n",
      " '445 - Arcing, shorted electrical equipment'\n",
      " '740A - Unnecessary alarm/construction activities'\n",
      " '550 - Public service assistance, other'\n",
      " '745A - Unnecessary alarm/ordinary household activities'\n",
      " '463 - Vehicle accident, general cleanup'\n",
      " '324 - Motor vehicle accident with no injuries.'\n",
      " '5001 - Cable / Telephone Wires Down'\n",
      " '4001 - Tree/branch removal or cutting' '510 - Person in distress, other'\n",
      " '621 - Wrong location' '512 - Ring or jewelry removal'\n",
      " '352 - Extrication of victim(s) from vehicle'\n",
      " '117 - Commercial Compactor fire, confined to rubbish'\n",
      " '410 - Combustible/flammable gas/liquid condition, other'\n",
      " '671 - HazMat release investigation w/no HazMat'\n",
      " '411 - Gasoline or other flammable liquid spill'\n",
      " '112 - Fires in structure other than in a building'\n",
      " '443 - Breakdown of light ballast'\n",
      " '440 - Electrical  wiring/equipment problem, other'\n",
      " '622 - No incident found on arrival at dispatch address'\n",
      " '520 - Water problem, other'\n",
      " '154 - Dumpster or other outside trash receptacle fire'\n",
      " '732 - Extinguishing system activation due to malfunction'\n",
      " '711 - Municipal alarm system, malicious false alarm'\n",
      " '114 - Chimney or flue fire, confined to chimney or flue'\n",
      " '413 - Oil or other combustible liquid spill'\n",
      " '371 - Electrocution or potential electrocution'\n",
      " '731 - Sprinkler activation due to malfunction'\n",
      " '342 - Search for person in water'\n",
      " '650 - Steam, other gas mistaken for smoke, other'\n",
      " '652 - Steam, vapor, fog or dust thought to be smoke'\n",
      " '554 - Assist invalid'\n",
      " '461 - Building or structure weakened or collapsed' '364 - Surf rescue'\n",
      " '132 - Road freight or transport vehicle fire' '442 - Overheated motor'\n",
      " '115 - Incinerator overload or malfunction, fire confined'\n",
      " '4003 - No Detector Activation Carbon Monoxide Incident or Emergency'\n",
      " '141 - Forest, woods or wildland fire'\n",
      " '742 - Extinguishing system activation'\n",
      " '744 - Detector activation, no fire - unintentional'\n",
      " '481 - Attempt to burn'\n",
      " '471 - Explosive, bomb removal (for bomb scare, use 721)'\n",
      " '460 - Accident, potential accident, other'\n",
      " '713 - Telephone, malicious false alarm'\n",
      " '350 - Extrication, rescue, other' '531 - Smoke or odor removal'\n",
      " '223 - Air or gas rupture of pressure or process vessel'\n",
      " '715 - Local alarm system, malicious false alarm'\n",
      " '210 - Overpressure rupture from steam, other'\n",
      " '130 - Mobile property (vehicle) fire, other'\n",
      " '160 - Special outside fire, other' '812 - Flood assessment'\n",
      " '4004 - Scaffold Incident' '340 - Search for lost person, other'\n",
      " '343 - Search for person underground' '420 - Toxic condition, other'\n",
      " '730 - System malfunction, other'\n",
      " '351 - Extrication of victim(s) from building/structure'\n",
      " '421 - Chemical hazard (no spill or leak)'\n",
      " '4401 - Compact Fluorescent Bulb'\n",
      " '661 - EMS call, party transported by non-fire agency'\n",
      " '741 - Sprinkler activation, no fire - unintentional'\n",
      " '240 - Explosion (no fire), other' '162 - Outside equipment fire'\n",
      " '354 - Trench/below-grade rescue' '542 - Animal rescue'\n",
      " '370 - Electrical rescue, other'\n",
      " '641 - Vicinity alarm (incident in other location)'\n",
      " '653 - Smoke from barbecue, tar kettle'\n",
      " '221 - Overpressure rupture of air or gas pipe/pipeline'\n",
      " '743 - Smoke detector activation, no fire - unintentional'\n",
      " '441 - Heat from short circuit (wiring), defective/worn'\n",
      " '672 - Biological hazard investigation, none found'\n",
      " '541 - Animal problem' '571A - Relocation' '381 - Rescue or EMS standby'\n",
      " '721 - Bomb scare - no bomb' '341 - Search for person on land'\n",
      " '140 - Natural vegetation fire, other' '133 - Rail vehicle fire'\n",
      " '143 - Grass fire' '571 - Cover assignment, standby, moveup'\n",
      " '360 - Water & ice-related rescue, other'\n",
      " '714 - Central station, malicious false alarm'\n",
      " '211 - Overpressure rupture of steam pipe or pipeline'\n",
      " '423 - Refrigeration leak'\n",
      " '733 - Smoke detector activation due to malfunction'\n",
      " '4002 - Explosive Escort' '521 - Water evacuation'\n",
      " '800 - Severe weather or natural disaster, other'\n",
      " '220 - Overpressure rupture from air or gas, other'\n",
      " '422 - Chemical spill or leak'\n",
      " '222 - Overpressure rupture of boiler from air or gas'\n",
      " '734 - Heat detector activation due to malfunction'\n",
      " '356 - High-angle rescue' '362 - Ice rescue'\n",
      " '153 - Construction or demolition landfill fire'\n",
      " '431 - Radiation leak, radioactive material' '561 - Unauthorized burning'\n",
      " '482 - Threat to burn' '540 - Animal problem, other'\n",
      " '120 - Fire in mobile prop. used as a fixed struc., other'\n",
      " '243 - Fireworks explosion (no fire)' '365 - Watercraft rescue'\n",
      " '251 - Excessive heat, scorch burns with no ignition'\n",
      " '430 - Radioactive condition, other' '462 - Aircraft standby'\n",
      " '123 - Fire in portable building, fixed location'\n",
      " '363 - Swift water rescue' '212 - Overpressure rupture of steam boiler'\n",
      " '357 - Extrication of victim(s) from machinery'\n",
      " '152 - Garbage dump or sanitary landfill fire'\n",
      " '161 - Outside storage fire' '244 - Dust explosion (no fire)'\n",
      " '213 - Steam rupture of pressure or process vessel'\n",
      " '122 - Fire in motor home, camper, recreational vehicle'\n",
      " '811 - Earthquake assessment'\n",
      " '173 - Cultivated trees or nursery stock fire'\n",
      " '631 - Authorized controlled burning'\n",
      " '361 - Swimming/recreational water areas rescue'\n",
      " '480 - Attempted burning, illegal action, other'\n",
      " '712 - Direct tie to FD, malicious false alarm'\n",
      " '451 - Biological hazard, confirmed or suspected'\n",
      " '164 - Outside mailbox fire'\n",
      " '241 - Munitions or bomb explosion (no fire)' '134 - Water vehicle fire'\n",
      " '372 - Trapped by power lines'\n",
      " '138 - Off-road vehicle or heavy equipment fire'\n",
      " '815 - Severe weather or natural disaster standby'\n",
      " '163 - Outside gas or vapor combustion explosion'\n",
      " '136 - Self-propelled motor home or recreational vehicle'\n",
      " '231 - Chemical reaction rupture of process vessel'\n",
      " '813 - Wind storm, tornado/hurricane assessment'\n",
      " '121 - Fire in mobile home used as fixed residence'\n",
      " '242 - Blasting agent explosion (no fire)'\n",
      " '155 - Outside stationary compactor/compacted trash fire'\n",
      " '355 - Confined space rescue' '172 - Cultivated orchard or vineyard fire'\n",
      " '632 - Prescribed fire' '135 - Aircraft fire'\n",
      " '814 - Lightning strike (no fire)'\n",
      " '751 - Biological hazard, malicious false report'\n",
      " '170 - Cultivated vegetation, crop fire, other']\n"
     ]
    }
   ],
   "source": [
    "print(dataset.INCIDENT_TYPE_DESC.unique())"
   ]
  },
  {
   "cell_type": "code",
   "execution_count": 4,
   "metadata": {},
   "outputs": [
    {
     "name": "stdout",
     "output_type": "stream",
     "text": [
      "300 - Rescue, EMS incident, other                               823378\n",
      "651 - Smoke scare, odor of smoke                                148924\n",
      "353 - Removal of victim(s) from stalled elevator                118264\n",
      "710 - Malicious, mischievous false call, other                  117864\n",
      "522 - Water or steam leak                                       108893\n",
      "412 - Gas leak (natural gas or LPG)                             108362\n",
      "735A - Unwarranted alarm/defective condition of alarm system    100500\n",
      "113 - Cooking fire, confined to container                        87039\n",
      "555 - Defective elevator, no occupants                           48147\n",
      "736 - CO detector activation due to malfunction                  45982\n",
      "322 - Motor vehicle accident with injuries                       45057\n",
      "445 - Arcing, shorted electrical equipment                       37839\n",
      "740A - Unnecessary alarm/construction activities                 31373\n",
      "151 - Outside rubbish, trash or waste fire                       28130\n",
      "323 - Motor vehicle/pedestrian accident (MV Ped)                 27737\n",
      "5001 - Cable / Telephone Wires Down                              24997\n",
      "311 - Medical assist, assist EMS crew                            24530\n",
      "611 - Dispatched & canceled en route                             23107\n",
      "331 - Lock-in (if lock out , use 511 )                           22519\n",
      "745A - Unnecessary alarm/ordinary household activities           21496\n",
      "600 - Good intent call, other                                    19742\n",
      "511 - Lock-out                                                   18456\n",
      "735B - Unnecessary alarm/alarm system testing or servicing       18426\n",
      "111 - Building fire                                              13089\n",
      "500 - Service Call, other                                        13020\n",
      "200 - Overpressure rupture, explosion, overheat other            12816\n",
      "118 - Trash or rubbish fire, contained                           10451\n",
      "424 - Carbon monoxide incident                                   10203\n",
      "116 - Fuel burner/boiler malfunction, fire confined               9672\n",
      "131 - Passenger vehicle fire                                      8985\n",
      "                                                                 ...  \n",
      "164 - Outside mailbox fire                                          23\n",
      "138 - Off-road vehicle or heavy equipment fire                      22\n",
      "471 - Explosive, bomb removal (for bomb scare, use 721)             20\n",
      "561 - Unauthorized burning                                          18\n",
      "120 - Fire in mobile prop. used as a fixed struc., other            17\n",
      "244 - Dust explosion (no fire)                                      15\n",
      "123 - Fire in portable building, fixed location                     14\n",
      "222 - Overpressure rupture of boiler from air or gas                13\n",
      "362 - Ice rescue                                                    13\n",
      "153 - Construction or demolition landfill fire                      12\n",
      "814 - Lightning strike (no fire)                                    12\n",
      "430 - Radioactive condition, other                                  10\n",
      "815 - Severe weather or natural disaster standby                     8\n",
      "241 - Munitions or bomb explosion (no fire)                          8\n",
      "811 - Earthquake assessment                                          7\n",
      "372 - Trapped by power lines                                         7\n",
      "152 - Garbage dump or sanitary landfill fire                         7\n",
      "242 - Blasting agent explosion (no fire)                             6\n",
      "431 - Radiation leak, radioactive material                           6\n",
      "231 - Chemical reaction rupture of process vessel                    6\n",
      "122 - Fire in motor home, camper, recreational vehicle               5\n",
      "155 - Outside stationary compactor/compacted trash fire              4\n",
      "751 - Biological hazard, malicious false report                      4\n",
      "121 - Fire in mobile home used as fixed residence                    3\n",
      "135 - Aircraft fire                                                  3\n",
      "136 - Self-propelled motor home or recreational vehicle              2\n",
      "170 - Cultivated vegetation, crop fire, other                        2\n",
      "632 - Prescribed fire                                                2\n",
      "173 - Cultivated trees or nursery stock fire                         2\n",
      "172 - Cultivated orchard or vineyard fire                            1\n",
      "Name: INCIDENT_TYPE_DESC, Length: 182, dtype: int64\n"
     ]
    }
   ],
   "source": [
    "print(dataset.INCIDENT_TYPE_DESC.value_counts())\n",
    "totals = dataset.INCIDENT_TYPE_DESC.value_counts()\n",
    "top = totals[0]"
   ]
  },
  {
   "cell_type": "code",
   "execution_count": 5,
   "metadata": {},
   "outputs": [],
   "source": [
    "total_calls = dataset.shape\n",
    "total_calls = total_calls[0]"
   ]
  },
  {
   "cell_type": "code",
   "execution_count": 6,
   "metadata": {},
   "outputs": [
    {
     "name": "stdout",
     "output_type": "stream",
     "text": [
      "0.3614828304238471\n"
     ]
    }
   ],
   "source": [
    "proportion = (top / total_calls)\n",
    "print(proportion)"
   ]
  },
  {
   "cell_type": "markdown",
   "metadata": {},
   "source": [
    "Question 2"
   ]
  },
  {
   "cell_type": "code",
   "execution_count": 7,
   "metadata": {},
   "outputs": [
    {
     "name": "stdout",
     "output_type": "stream",
     "text": [
      "2.7597595139775324\n"
     ]
    }
   ],
   "source": [
    "conv_arr = dataset.values\n",
    "incidents = conv_arr[:,2]\n",
    "units = conv_arr[:,5]\n",
    "building_fire_index = np.argwhere(incidents==\"111 - Building fire\")\n",
    "smoke_index = np.argwhere(incidents==\"651 - Smoke scare, odor of smoke\")\n",
    "building_fire = np.take(units, building_fire_index)\n",
    "smoke = np.take(units, smoke_index)\n",
    "\n",
    "smoke = smoke.astype(float)\n",
    "building_fire = building_fire.astype(float)\n",
    "\n",
    "average_smoke_units = np.nanmean(smoke)\n",
    "average_building_fire_units = np.nanmean(building_fire)\n",
    "\n",
    "ratio =  average_building_fire_units / average_smoke_units \n",
    "\n",
    "print(ratio)"
   ]
  },
  {
   "cell_type": "markdown",
   "metadata": {},
   "source": [
    "Question 3"
   ]
  },
  {
   "cell_type": "code",
   "execution_count": 8,
   "metadata": {},
   "outputs": [
    {
     "name": "stdout",
     "output_type": "stream",
     "text": [
      "{'1 - Manhattan': 25240, '2 - Bronx': 26467, '3 - Staten Island': 8276, '4 - Brooklyn': 32110, '5 - Queens': 25771}\n",
      "0.327892234548336\n"
     ]
    }
   ],
   "source": [
    "borough = conv_arr[:,15]\n",
    "\n",
    "false_alarms = np.argwhere(incidents==\"710 - Malicious, mischievous false call, other\")\n",
    "locations_of_false_calls = np.take(borough, false_alarms)\n",
    "\n",
    "unique, counts = np.unique(locations_of_false_calls, return_counts=True)\n",
    "result = dict(zip(unique, counts))\n",
    "print(result)\n",
    "\n",
    "print(8276 / 25240)"
   ]
  },
  {
   "cell_type": "markdown",
   "metadata": {},
   "source": [
    "Question 4"
   ]
  },
  {
   "cell_type": "code",
   "execution_count": 9,
   "metadata": {},
   "outputs": [],
   "source": [
    "call_log = conv_arr[:,3]\n",
    "arrival = conv_arr[:,4]\n",
    "\n",
    "call_log_fire = np.take(call_log, building_fire_index)\n",
    "arrival_fire = np.take(arrival, building_fire_index)"
   ]
  },
  {
   "cell_type": "markdown",
   "metadata": {},
   "source": [
    "Question 5"
   ]
  },
  {
   "cell_type": "code",
   "execution_count": null,
   "metadata": {},
   "outputs": [],
   "source": []
  },
  {
   "cell_type": "markdown",
   "metadata": {},
   "source": [
    "Question 6"
   ]
  },
  {
   "cell_type": "code",
   "execution_count": 23,
   "metadata": {},
   "outputs": [
    {
     "name": "stdout",
     "output_type": "stream",
     "text": [
      "{10001: 83, 10002: 114, 10003: 82, 10004: 8, 10005: 5, 10006: 5, 10007: 19, 10009: 97, 10010: 54, 10011: 89, 10012: 38, 10013: 68, 10014: 55, 10016: 113, 10017: 49, 10018: 66, 10019: 130, 10020: 4, 10021: 117, 10022: 71, 10023: 67, 10024: 68, 10025: 96, 10026: 63, 10027: 90, 10028: 44, 10029: 132, 10030: 59, 10031: 101, 10032: 71, 10033: 56, 10034: 40, 10035: 62, 10036: 109, 10037: 33, 10038: 22, 10039: 43, 10040: 44, 10128: 54, 10280: 5, 10301: 92, 10302: 47, 10303: 57, 10304: 111, 10305: 62, 10306: 79, 10307: 24, 10308: 27, 10309: 33, 10310: 63, 10312: 65, 10314: 97, 10451: 104, 10452: 114, 10453: 147, 10454: 103, 10455: 88, 10456: 204, 10457: 176, 10458: 158, 10459: 75, 10460: 156, 10461: 76, 10462: 117, 10463: 89, 10464: 9, 10465: 67, 10466: 147, 10467: 177, 10468: 125, 10469: 125, 10470: 27, 10471: 27, 10472: 150, 10473: 107, 10474: 44, 10475: 46, 11004: 12, 11005: 1, 11101: 83, 11102: 40, 11103: 49, 11104: 30, 11105: 43, 11106: 47, 11201: 81, 11203: 153, 11204: 66, 11205: 73, 11206: 175, 11207: 218, 11208: 203, 11209: 68, 11210: 104, 11211: 184, 11212: 186, 11213: 108, 11214: 72, 11215: 80, 11216: 110, 11217: 70, 11218: 85, 11219: 96, 11220: 99, 11221: 199, 11222: 73, 11223: 84, 11224: 105, 11225: 65, 11226: 172, 11228: 30, 11229: 72, 11230: 94, 11231: 48, 11232: 52, 11233: 169, 11234: 110, 11235: 115, 11236: 145, 11237: 81, 11238: 71, 11239: 8, 11251: 4, 11354: 78, 11355: 68, 11356: 33, 11357: 48, 11358: 31, 11360: 12, 11361: 21, 11362: 14, 11363: 14, 11364: 30, 11365: 39, 11366: 13, 11367: 53, 11368: 132, 11369: 39, 11370: 21, 11372: 59, 11373: 125, 11374: 40, 11375: 55, 11377: 101, 11378: 42, 11379: 34, 11385: 97, 11411: 56, 11412: 93, 11413: 110, 11414: 25, 11415: 17, 11416: 49, 11417: 52, 11418: 76, 11419: 108, 11420: 78, 11421: 43, 11422: 37, 11423: 69, 11426: 21, 11427: 25, 11428: 30, 11429: 78, 11432: 77, 11433: 95, 11434: 144, 11435: 108, 11436: 63, 11691: 110, 11692: 31, 11693: 19, 11694: 15, 11697: 7, 99999: 80}\n",
      "0.0014015392518936 9.689778021377137 0.7728773478798214 1.3101374823421165e-35 8.799666278884008e-05\n"
     ]
    },
    {
     "data": {
      "image/png": "[encoded data removed]",
      "text/plain": [
       "<Figure size 432x288 with 1 Axes>"
      ]
     },
     "metadata": {
      "needs_background": "light"
     },
     "output_type": "display_data"
    }
   ],
   "source": [
    "def get_population(census, zip_code):\n",
    "    for i in range(0, census[:,0].size):\n",
    "        if census[i,0] == zip_code:\n",
    "            return census[i,1]\n",
    "        \n",
    "census = np.genfromtxt(\"census.csv\", skip_header=1, dtype=\"float\", delimiter=\",\")\n",
    "zip_codes = conv_arr[:,14]\n",
    "zip_codes_fire = np.take(zip_codes, building_fire_index)\n",
    "zip_codes_fire = zip_codes_fire.astype(int)\n",
    "unique, counts = np.unique(zip_codes_fire, return_counts=True)\n",
    "result = dict(zip(unique, counts))\n",
    "print(result)\n",
    "populations = np.array([])\n",
    "for i in range(0, unique.size):\n",
    "    pop = get_population(census, unique[i])\n",
    "    populations = np.append(populations, pop)\n",
    "\n",
    "populations = np.delete(populations, 122)\n",
    "populations = np.delete(populations, 173)\n",
    "counts = np.delete(counts, 122)\n",
    "counts = np.delete(counts, 173)\n",
    "\n",
    "c = counts.tolist()\n",
    "p = populations.tolist()\n",
    "slope, intercept, r_value, p_value, std_err = stats.linregress(p, c)\n",
    "line = populations * slope + intercept\n",
    "print(slope, intercept, r_value, p_value, std_err)\n",
    "plt.scatter(populations, counts)\n",
    "plt.plot(populations, line)\n",
    "plt.ylabel(\"Total number of incidents\")\n",
    "plt.xlabel(\"Total number of residents\")\n",
    "plt.show()"
   ]
  },
  {
   "cell_type": "markdown",
   "metadata": {},
   "source": [
    "Question 7"
   ]
  },
  {
   "cell_type": "code",
   "execution_count": null,
   "metadata": {},
   "outputs": [],
   "source": [
    "def find_region(x):\n",
    "    p20_30 = np.array([])\n",
    "    p30_40 = np.array([])\n",
    "    p40_50 = np.array([])\n",
    "    p50_60 = np.array([])\n",
    "    p60_70 = np.array([])\n",
    "    for i in range(0, x.size):\n",
    "        if x[i] < 30.0 and x[i] > 20.0:\n",
    "            p20_30 = np.append(p20_30, x[i])\n",
    "        if x[i] < 40.0 and x[i] > 30.0:            \n",
    "            p30_40 = np.append(p30_40, x[i])\n",
    "        if x[i] < 50.0 and x[i] > 40.0:\n",
    "            p40_50 = np.append(p40_50, x[i])\n",
    "        if x[i] < 60.0 and x[i] > 50.0:\n",
    "            p50_60 = np.append(p50_60, x[i])\n",
    "        if x[i] < 70.0 and x[i] > 60.0:\n",
    "            p60_70 = np.append(p60_70, x[i])\n",
    "\n",
    "    return p20_30, p30_40, p40_50, p50_60, p60_70\n",
    "\n",
    "def bins(a, b, c, d, e, full):\n",
    "    a = a.size / full\n",
    "    b = b.size / full\n",
    "    c = c.size / full\n",
    "    d = d.size / full\n",
    "    e = e.size / full\n",
    "\n",
    "    return a, b, c, d, e \n",
    "\n",
    "fire_alarm = conv_arr[:,17]\n",
    "durations = conv_arr[:,8]\n",
    "\n",
    "fire_alarm_present = np.argwhere(fire_alarm==\"Yes\")\n",
    "fire_alarm_absent = np.argwhere(fire_alarm==\"No\")\n",
    "\n",
    "fire_alarm_present_call_durations = np.take(durations, fire_alarm_present)\n",
    "fire_alarm_absent_call_durations = np.take(durations, fire_alarm_absent)\n",
    "\n",
    "fire_alarm_absent_call_durations = fire_alarm_absent_call_durations / 60\n",
    "fire_alarm_present_call_durations = fire_alarm_present_call_durations /60\n",
    "\n",
    "pres20_30, pres30_40, pres40_50, pres50_60, pres60_70 = find_region(fire_alarm_present_call_durations)\n",
    "abs20_30, abs30_40, abs40_50, abs50_60, abs60_70 = find_region(fire_alarm_absent_call_durations)\n",
    "\n",
    "pres20_30, pres30_40, pres40_50, pres50_60, pres60_70 = bins(pres20_30, pres30_40, pres40_50, pres50_60, pres60_70, fire_alarm_present_call_durations.size)\n",
    "abs20_30, abs30_40, abs40_50, abs50_60, abs60_70 = bins(abs20_30, abs30_40, abs40_50, abs50_60, abs60_70, fire_alarm_absent_call_durations.size)\n",
    "\n",
    "print(pres20_30, pres30_40, pres40_50, pres50_60, pres60_70)\n",
    "print(abs20_30, abs30_40, abs40_50, abs50_60, abs60_70)\n",
    "\n",
    "ratio20_30 = abs20_30 / pres20_30 \n",
    "ratio30_40 = abs30_40 / pres30_40 \n",
    "ratio40_50 = abs40_50 / pres40_50 \n",
    "ratio50_60 = abs50_60 / pres50_60 \n",
    "ratio60_70 = abs60_70 / pres60_70 \n",
    "\n",
    "print(ratio20_30, ratio30_40, ratio40_50, ratio50_60, ratio60_70)\n",
    "plt.scatter([25, 35, 45, 55, 65], [ratio20_30, ratio30_40, ratio40_50, ratio50_60, ratio60_70])\n",
    "plt.show()"
   ]
  },
  {
   "cell_type": "code",
   "execution_count": null,
   "metadata": {},
   "outputs": [],
   "source": [
    "slope, intercept, r_value, p_value, std_err = stats.linregress([25, 35, 45, 55, 65], [ratio20_30, ratio30_40, ratio40_50, ratio50_60, ratio60_70])\n",
    "\n",
    "y_39 = slope * 39 + intercept\n",
    "print(y_39)"
   ]
  },
  {
   "cell_type": "markdown",
   "metadata": {},
   "source": [
    "Question 8"
   ]
  },
  {
   "cell_type": "code",
   "execution_count": null,
   "metadata": {},
   "outputs": [],
   "source": [
    "def greater_than_60(x):\n",
    "    a = np.array([])\n",
    "    for i in range(0, x.size):\n",
    "        if x[i] > 60.0:\n",
    "            a = np.append(a, x[i])\n",
    "    return a\n",
    "\n",
    "absent_60 = greater_than_60(fire_alarm_absent_call_durations)\n",
    "present_60 = greater_than_60(fire_alarm_present_call_durations)\n",
    "print(chisquare([absent_60.size, present_60.size]))\n"
   ]
  },
  {
   "cell_type": "markdown",
   "metadata": {},
   "source": []
  },
  {
   "cell_type": "code",
   "execution_count": null,
   "metadata": {},
   "outputs": [],
   "source": []
  },
  {
   "cell_type": "code",
   "execution_count": null,
   "metadata": {},
   "outputs": [],
   "source": []
  },
  {
   "cell_type": "code",
   "execution_count": null,
   "metadata": {},
   "outputs": [],
   "source": []
  },
  {
   "cell_type": "code",
   "execution_count": null,
   "metadata": {},
   "outputs": [],
   "source": []
  }
 ],
 "metadata": {
  "kernelspec": {
   "display_name": "Python 3",
   "language": "python",
   "name": "python3"
  },
  "language_info": {
   "codemirror_mode": {
    "name": "ipython",
    "version": 3
   },
   "file_extension": ".py",
   "mimetype": "text/x-python",
   "name": "python",
   "nbconvert_exporter": "python",
   "pygments_lexer": "ipython3",
   "version": "3.7.0"
  }
 },
 "nbformat": 4,
 "nbformat_minor": 2
}
